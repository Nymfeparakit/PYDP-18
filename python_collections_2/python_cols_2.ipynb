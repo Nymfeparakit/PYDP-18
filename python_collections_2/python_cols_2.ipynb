{
  "nbformat": 4,
  "nbformat_minor": 0,
  "metadata": {
    "colab": {
      "name": "PyTT_03(1).ipynb",
      "provenance": [],
      "collapsed_sections": []
    },
    "kernelspec": {
      "name": "python3",
      "display_name": "Python 3"
    },
    "language_info": {
      "name": "python"
    }
  },
  "cells": [
    {
      "cell_type": "code",
      "metadata": {
        "colab": {
          "base_uri": "https://localhost:8080/"
        },
        "id": "SiwBJ6_oHZB5",
        "outputId": "6ac1571b-cdb4-4537-bb85-f67b7e0a926b"
      },
      "source": [
        "ids = {'user1': [213, 213, 213, 15, 213], \n",
        "       'user2': [54, 54, 119, 119, 119], \n",
        "       'user3': [213, 98, 98, 35]}\n",
        "\n",
        "ans = set()\n",
        "\n",
        "for key, value in ids.items():\n",
        "  ans.update(value)\n",
        "\n",
        "print(ans)"
      ],
      "execution_count": 11,
      "outputs": [
        {
          "output_type": "stream",
          "text": [
            "{98, 35, 15, 213, 54, 119}\n"
          ],
          "name": "stdout"
        }
      ]
    },
    {
      "cell_type": "code",
      "metadata": {
        "colab": {
          "base_uri": "https://localhost:8080/"
        },
        "id": "2ZARNIDsI1sC",
        "outputId": "fdcf5e18-2532-465c-f7ef-3301a73adeb0"
      },
      "source": [
        "queries = [\n",
        "    'смотреть сериалы онлайн',\n",
        "    'новости спорта',\n",
        "    'афиша кино',\n",
        "    'курс доллара',\n",
        "    'сериалы этим летом',\n",
        "    'курс по питону',\n",
        "    'сериалы про спорт',\n",
        "]\n",
        "\n",
        "res_dict = {}\n",
        "for query in queries:\n",
        "  a = len(query.split(' '))\n",
        "  if a in res_dict:\n",
        "    res_dict[a] = res_dict[a]+1\n",
        "  else:\n",
        "    res_dict[a] = 1\n",
        "for key in res_dict.keys():\n",
        "  print(\"Поисковых запросов, содержащих {0} слов(а): {1}%\".format(key, round(100*res_dict[key]/len(queries),2)))"
      ],
      "execution_count": 12,
      "outputs": [
        {
          "output_type": "stream",
          "text": [
            "Поисковых запросов, содержащих 3 слов(а): 57.14%\n",
            "Поисковых запросов, содержащих 2 слов(а): 42.86%\n"
          ],
          "name": "stdout"
        }
      ]
    },
    {
      "cell_type": "code",
      "metadata": {
        "colab": {
          "base_uri": "https://localhost:8080/"
        },
        "id": "lb7cLrxOLM_n",
        "outputId": "bd487bc7-85e4-41a9-f3f8-ef5f1d903dd1"
      },
      "source": [
        "results = {\n",
        "    'vk': {'revenue': 103, 'cost': 98},\n",
        "    'yandex': {'revenue': 179, 'cost': 153},\n",
        "    'facebook': {'revenue': 103, 'cost': 110},\n",
        "    'adwords': {'revenue': 35, 'cost': 34},\n",
        "    'twitter': {'revenue': 11, 'cost': 24},\n",
        "}\n",
        "\n",
        "for keys, value in results.items():\n",
        "  value['ROI'] = round(100*(value['revenue']/value['cost']-1),2)\n",
        "\n",
        "print(results)"
      ],
      "execution_count": 13,
      "outputs": [
        {
          "output_type": "stream",
          "text": [
            "{'vk': {'revenue': 103, 'cost': 98, 'ROI': 5.1}, 'yandex': {'revenue': 179, 'cost': 153, 'ROI': 16.99}, 'facebook': {'revenue': 103, 'cost': 110, 'ROI': -6.36}, 'adwords': {'revenue': 35, 'cost': 34, 'ROI': 2.94}, 'twitter': {'revenue': 11, 'cost': 24, 'ROI': -54.17}}\n"
          ],
          "name": "stdout"
        }
      ]
    },
    {
      "cell_type": "code",
      "metadata": {
        "colab": {
          "base_uri": "https://localhost:8080/"
        },
        "id": "YUcY_si6Mbh5",
        "outputId": "592c2b83-b678-4d17-e787-91751a999ced"
      },
      "source": [
        "import operator\n",
        "stats = {'facebook': 55, 'yandex': 115, 'vk': 120, 'google': 99, 'email': 42, 'ok': 98}\n",
        "\n",
        "result = max(stats.items(), key = operator.itemgetter(1))\n",
        "print(\"Максимальный объем продаж на рекламном канале: \", result[0])"
      ],
      "execution_count": 14,
      "outputs": [
        {
          "output_type": "stream",
          "text": [
            "Максимальный объем продаж на рекламном канале:  vk\n"
          ],
          "name": "stdout"
        }
      ]
    },
    {
      "cell_type": "code",
      "metadata": {
        "colab": {
          "base_uri": "https://localhost:8080/"
        },
        "id": "B6HBFxZyPBTD",
        "outputId": "9fcd8462-a69a-40c9-cec1-6ed8d99a0d4f"
      },
      "source": [
        "my_list = ['2018-01-01', 'yandex', 'cpc', 100]\n",
        "my_list = ['a', 'b', 'c', 'd', 'e', 'f']\n",
        "\n",
        "dict_res = {my_list[-2]:my_list[-1]}\n",
        "\n",
        "for k in range(len(my_list)-3,-1, -1):\n",
        "  dict_res = {my_list[k] : dict_res}\n",
        "print(dict_res)"
      ],
      "execution_count": 15,
      "outputs": [
        {
          "output_type": "stream",
          "text": [
            "{'a': {'b': {'c': {'d': {'e': 'f'}}}}}\n"
          ],
          "name": "stdout"
        }
      ]
    },
    {
      "cell_type": "code",
      "metadata": {
        "colab": {
          "base_uri": "https://localhost:8080/"
        },
        "id": "usyVjD3AQwTg",
        "outputId": "543d6be4-648c-49f0-da6e-687a83b1c2e7"
      },
      "source": [
        "cook_book = {\n",
        "  'салат': [\n",
        "     {'ingridient_name': 'сыр', 'quantity': 50, 'measure': 'гр'},\n",
        "     {'ingridient_name': 'томаты', 'quantity': 2, 'measure': 'шт'},\n",
        "     {'ingridient_name': 'огурцы', 'quantity': 20, 'measure': 'гр'},\n",
        "     {'ingridient_name': 'маслины', 'quantity': 10, 'measure': 'гр'},\n",
        "     {'ingridient_name': 'оливковое масло', 'quantity': 20, 'measure': 'мл'},\n",
        "     {'ingridient_name': 'салат', 'quantity': 10, 'measure': 'гр'},\n",
        "     {'ingridient_name': 'перец', 'quantity': 20, 'measure': 'гр'}\n",
        "    ],\n",
        "  'пицца': [\n",
        "     {'ingridient_name': 'сыр', 'quantity': 20, 'measure': 'гр'},\n",
        "     {'ingridient_name': 'колбаса', 'quantity': 30, 'measure': 'гр'},\n",
        "     {'ingridient_name': 'бекон', 'quantity': 30, 'measure': 'гр'},\n",
        "     {'ingridient_name': 'оливки', 'quantity': 10, 'measure': 'гр'},\n",
        "     {'ingridient_name': 'томаты', 'quantity': 20, 'measure': 'гр'},\n",
        "     {'ingridient_name': 'тесто', 'quantity': 100, 'measure': 'гр'},   \n",
        "    ],\n",
        "  'лимонад': [\n",
        "     {'ingridient_name': 'лимон', 'quantity': 1, 'measure': 'шт'},\n",
        "     {'ingridient_name': 'вода', 'quantity': 200, 'measure': 'мл'},\n",
        "     {'ingridient_name': 'сахар', 'quantity': 10, 'measure': 'гр'},\n",
        "     {'ingridient_name': 'лайм', 'quantity': 20, 'measure': 'гр'},    \n",
        "    ]\n",
        "}\n",
        "\n",
        "foods = {}\n",
        "portions = int(input('Введите количество порций:'))\n",
        "for key, value in cook_book.items():\n",
        "  for ingridients in value:\n",
        "    ing_name = ingridients['ingridient_name']\n",
        "    ing_quan = ingridients['quantity']\n",
        "    ing_mes = ingridients['measure']\n",
        "    if ing_name in foods:\n",
        "      foods[ing_name] = [foods[ing_name][0] + ing_quan*portions, ing_mes]\n",
        "    else:\n",
        "      foods[ing_name] = [ing_quan*portions, ing_mes]\n",
        "\n",
        "for key, value in foods.items():\n",
        "  print(\"{0}: {1} {2}\".format(key, value[0], value[1]))"
      ],
      "execution_count": 16,
      "outputs": [
        {
          "output_type": "stream",
          "text": [
            "Введите количество порций:3\n",
            "сыр: 210 гр\n",
            "томаты: 66 гр\n",
            "огурцы: 60 гр\n",
            "маслины: 30 гр\n",
            "оливковое масло: 60 мл\n",
            "салат: 30 гр\n",
            "перец: 60 гр\n",
            "колбаса: 90 гр\n",
            "бекон: 90 гр\n",
            "оливки: 30 гр\n",
            "тесто: 300 гр\n",
            "лимон: 3 шт\n",
            "вода: 600 мл\n",
            "сахар: 30 гр\n",
            "лайм: 60 гр\n"
          ],
          "name": "stdout"
        }
      ]
    }
  ]
}