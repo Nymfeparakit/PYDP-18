{
  "nbformat": 4,
  "nbformat_minor": 0,
  "metadata": {
    "colab": {
      "name": "PyTT_02.ipynb",
      "provenance": [],
      "collapsed_sections": []
    },
    "kernelspec": {
      "name": "python3",
      "display_name": "Python 3"
    },
    "language_info": {
      "name": "python"
    }
  },
  "cells": [
    {
      "cell_type": "code",
      "metadata": {
        "id": "n4adW2mRUblk",
        "colab": {
          "base_uri": "https://localhost:8080/"
        },
        "outputId": "95234178-e837-4631-82ba-76d05f0851a1"
      },
      "source": [
        "word = 'testing'\n",
        "lng = len(word)\n",
        "if lng % 2 == 0:\n",
        "  res = word[int(lng/2-1) : int(lng/2)+1]\n",
        "else:\n",
        "  res = word[int((lng-1)/2)]\n",
        "print(res)"
      ],
      "execution_count": null,
      "outputs": [
        {
          "output_type": "stream",
          "text": [
            "t\n"
          ],
          "name": "stdout"
        }
      ]
    },
    {
      "cell_type": "code",
      "metadata": {
        "colab": {
          "base_uri": "https://localhost:8080/"
        },
        "id": "PJk8GwF60-9X",
        "outputId": "a6e12410-96e0-4e74-a686-efa4ae085e91"
      },
      "source": [
        "sum = 0\n",
        "while(True):\n",
        "  print('Введите число:')\n",
        "  num = int(input())\n",
        "  sum += num\n",
        "  if num == 0:\n",
        "    print('Результат: ', str(sum))\n",
        "    break"
      ],
      "execution_count": null,
      "outputs": [
        {
          "output_type": "stream",
          "text": [
            "Введите число:\n",
            "5\n",
            "Введите число:\n",
            "3\n",
            "Введите число:\n",
            "6\n",
            "Введите число:\n",
            "-4\n",
            "Введите число:\n",
            "0\n",
            "Результат:  10\n"
          ],
          "name": "stdout"
        }
      ]
    },
    {
      "cell_type": "code",
      "metadata": {
        "colab": {
          "base_uri": "https://localhost:8080/"
        },
        "id": "QXtjxlqr1wmO",
        "outputId": "a6846c8b-e619-440c-dccb-66c3c9452113"
      },
      "source": [
        "boys = ['Peter', 'Alex', 'John', 'Arthur', 'Richard', 'Michael']\n",
        "girls = ['Kate', 'Liza', 'Kira', 'Emma', 'Trisha']\n",
        "boys.sort()\n",
        "girls.sort()\n",
        "if len(boys) != len(girls):\n",
        "  print('Внимание, кто-то может остаться без пары!')\n",
        "else:\n",
        "  print('Идеальные пары:')\n",
        "  for b,g in zip(boys, girls):\n",
        "    print(b, g)\n"
      ],
      "execution_count": null,
      "outputs": [
        {
          "output_type": "stream",
          "text": [
            "Внимание, кто-то может остаться без пары!\n"
          ],
          "name": "stdout"
        }
      ]
    },
    {
      "cell_type": "code",
      "metadata": {
        "id": "4notP-ue25uw",
        "colab": {
          "base_uri": "https://localhost:8080/"
        },
        "outputId": "bd73b3d6-9ed1-45dc-85b7-71c2186d9b54"
      },
      "source": [
        "countries_temperature = [\n",
        "    ['Thailand', [75.2, 77, 78.8, 73.4, 68, 75.2, 77]],\n",
        "    ['Germany', [57.2, 55.4, 59, 59, 53.6]],\n",
        "    ['Russia', [35.6, 37.4, 39.2, 41, 42.8, 39.2, 35.6]],\n",
        "    ['Poland', [50, 50, 53.6, 57.2, 55.4, 55.4]]\n",
        "]\n",
        "\n",
        "print('Средняя температура в странах:')\n",
        "for country in countries_temperature:\n",
        "  print(country[0], '  ', '-', '  ', round((sum(country[1])/len(country[1]) - 32)/1.8, 1), 'C')\n"
      ],
      "execution_count": null,
      "outputs": [
        {
          "output_type": "stream",
          "text": [
            "Средняя температура в странах:\n",
            "Thailand    -    23.9 C\n",
            "Germany    -    13.8 C\n",
            "Russia    -    3.7 C\n",
            "Poland    -    12.0 C\n"
          ],
          "name": "stdout"
        }
      ]
    },
    {
      "cell_type": "code",
      "metadata": {
        "id": "b8KxA5yeHOGo",
        "colab": {
          "base_uri": "https://localhost:8080/"
        },
        "outputId": "02267110-ec73-4d50-fd90-10c223203987"
      },
      "source": [
        "stream = [\n",
        "    '2018-01-01,user1,3',\n",
        "    '2018-01-07,user1,4',\n",
        "    '2018-03-29,user1,1',\n",
        "    '2018-04-04,user1,13',\n",
        "    '2018-01-05,user2,7',\n",
        "    '2018-06-14,user3,4',\n",
        "    '2018-07-02,user3,10',\n",
        "    '2018-03-21,user4,19',\n",
        "    '2018-03-22,user4,4',\n",
        "    '2018-04-22,user4,8',\n",
        "    '2018-05-03,user4,9',\n",
        "    '2018-05-11,user4,11',\n",
        "]\n",
        "\n",
        "users_info = {}\n",
        "for log in stream:\n",
        "  substr = log.split(',')\n",
        "  if substr[1] in users_info:\n",
        "    users_info[substr[1]] = users_info[substr[1]] + int(substr[2])\n",
        "  else:\n",
        "    users_info[substr[1]] = int(substr[2])\n",
        "\n",
        "val = round(sum(users_info.values())/len(users_info.values()),2)\n",
        "print('Среднее количество просмотров на уникального пользователя: ', val)\n",
        "\n",
        "\n"
      ],
      "execution_count": null,
      "outputs": [
        {
          "output_type": "stream",
          "text": [
            "Среднее количество просмотров на уникального пользователя:  145.33\n"
          ],
          "name": "stdout"
        }
      ]
    },
    {
      "cell_type": "code",
      "metadata": {
        "id": "hs1MP28mKk4d",
        "colab": {
          "base_uri": "https://localhost:8080/"
        },
        "outputId": "63b16944-7e7e-4e9b-eb9b-f044953327e2"
      },
      "source": [
        "print('Введите числа:')\n",
        "numbers = input().split(' ')\n",
        "numbers = list(map(int, numbers))\n",
        "numbers_set = set(numbers)\n",
        "ans = [k for k in numbers_set if numbers.count(k) > 1]\n",
        "ans.sort()\n",
        "ans = ' '.join(list(map(str, ans)))\n",
        "print(ans)\n"
      ],
      "execution_count": null,
      "outputs": [
        {
          "output_type": "stream",
          "text": [
            "Введите числа:\n",
            "10 15 15 103 200 200 200 1 1 1 1 1 2 2 2\n",
            "1 2 15 200\n"
          ],
          "name": "stdout"
        }
      ]
    }
  ]
}