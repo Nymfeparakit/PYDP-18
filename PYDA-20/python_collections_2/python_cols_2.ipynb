{
  "nbformat": 4,
  "nbformat_minor": 0,
  "metadata": {
    "colab": {
      "name": "PyTT_03.ipynb",
      "provenance": [],
      "collapsed_sections": []
    },
    "kernelspec": {
      "name": "python3",
      "display_name": "Python 3"
    },
    "language_info": {
      "name": "python"
    }
  },
  "cells": [
    {
      "cell_type": "code",
      "metadata": {
        "colab": {
          "base_uri": "https://localhost:8080/"
        },
        "id": "SiwBJ6_oHZB5",
        "outputId": "8afc0f19-5498-4988-c4c6-1287532e5f3f"
      },
      "source": [
        "ids = {'user1': [213, 213, 213, 15, 213], \n",
        "       'user2': [54, 54, 119, 119, 119], \n",
        "       'user3': [213, 98, 98, 35]}\n",
        "\n",
        "ans = set()\n",
        "\n",
        "for key, value in ids.items():\n",
        "  ans.update(value)\n",
        "\n",
        "print(ans)"
      ],
      "execution_count": null,
      "outputs": [
        {
          "output_type": "stream",
          "text": [
            "{98, 35, 15, 213, 54, 119}\n"
          ],
          "name": "stdout"
        }
      ]
    },
    {
      "cell_type": "code",
      "metadata": {
        "colab": {
          "base_uri": "https://localhost:8080/"
        },
        "id": "2ZARNIDsI1sC",
        "outputId": "e29567c5-3d0f-453c-d4e8-2d0a1890a94a"
      },
      "source": [
        "queries = [\n",
        "    'смотреть сериалы онлайн',\n",
        "    'новости спорта',\n",
        "    'афиша кино',\n",
        "    'курс доллара',\n",
        "    'сериалы этим летом',\n",
        "    'курс по питону',\n",
        "    'сериалы про спорт',\n",
        "]\n",
        "\n",
        "resDict = {}\n",
        "for query in queries:\n",
        "  a = len(query.split(' '))\n",
        "  if a in resDict:\n",
        "    resDict[a] = resDict[a]+1\n",
        "  else:\n",
        "    resDict[a] = 1\n",
        "for key in resDict.keys():\n",
        "  print(\"Поисковых запросов, содержащих {0} слов(а): {1}%\".format(key, round(100*resDict[key]/len(queries),2)))"
      ],
      "execution_count": null,
      "outputs": [
        {
          "output_type": "stream",
          "text": [
            "Поисковых запросов, содержащих 3 слов(а): 57.14%\n",
            "Поисковых запросов, содержащих 2 слов(а): 42.86%\n"
          ],
          "name": "stdout"
        }
      ]
    },
    {
      "cell_type": "code",
      "metadata": {
        "colab": {
          "base_uri": "https://localhost:8080/"
        },
        "id": "lb7cLrxOLM_n",
        "outputId": "805b62bd-b225-4ec3-aeb0-7a6c6699e271"
      },
      "source": [
        "results = {\n",
        "    'vk': {'revenue': 103, 'cost': 98},\n",
        "    'yandex': {'revenue': 179, 'cost': 153},\n",
        "    'facebook': {'revenue': 103, 'cost': 110},\n",
        "    'adwords': {'revenue': 35, 'cost': 34},\n",
        "    'twitter': {'revenue': 11, 'cost': 24},\n",
        "}\n",
        "\n",
        "for keys, value in results.items():\n",
        "  value['ROI'] = round(100*(value['revenue']/value['cost']-1),2)\n",
        "\n",
        "print(results)"
      ],
      "execution_count": null,
      "outputs": [
        {
          "output_type": "stream",
          "text": [
            "{'vk': {'revenue': 103, 'cost': 98, 'ROI': 5.1}, 'yandex': {'revenue': 179, 'cost': 153, 'ROI': 16.99}, 'facebook': {'revenue': 103, 'cost': 110, 'ROI': -6.36}, 'adwords': {'revenue': 35, 'cost': 34, 'ROI': 2.94}, 'twitter': {'revenue': 11, 'cost': 24, 'ROI': -54.17}}\n"
          ],
          "name": "stdout"
        }
      ]
    },
    {
      "cell_type": "code",
      "metadata": {
        "colab": {
          "base_uri": "https://localhost:8080/"
        },
        "id": "YUcY_si6Mbh5",
        "outputId": "25758696-3c3d-4ce1-b33c-b6f91d023ddf"
      },
      "source": [
        "import operator\n",
        "stats = {'facebook': 55, 'yandex': 115, 'vk': 120, 'google': 99, 'email': 42, 'ok': 98}\n",
        "\n",
        "result = max(stats.items(), key = operator.itemgetter(1))\n",
        "print(\"Максимальный объем продаж на рекламном канале: \", result[0])"
      ],
      "execution_count": null,
      "outputs": [
        {
          "output_type": "stream",
          "text": [
            "Максимальный объем продаж на рекламном канале:  vk\n"
          ],
          "name": "stdout"
        }
      ]
    },
    {
      "cell_type": "code",
      "metadata": {
        "colab": {
          "base_uri": "https://localhost:8080/"
        },
        "id": "B6HBFxZyPBTD",
        "outputId": "14769144-5540-4ea4-a21f-08dbfd404189"
      },
      "source": [
        "my_list = ['2018-01-01', 'yandex', 'cpc', 100]\n",
        "my_list = ['a', 'b', 'c', 'd', 'e', 'f']\n",
        "\n",
        "dictRes = {my_list[-2]:my_list[-1]}\n",
        "\n",
        "for k in range(len(my_list)-3,-1, -1):\n",
        "  dictRes = {my_list[k] : dictRes}\n",
        "print(dictRes)"
      ],
      "execution_count": null,
      "outputs": [
        {
          "output_type": "stream",
          "text": [
            "{'a': {'b': {'c': {'d': {'e': 'f'}}}}}\n"
          ],
          "name": "stdout"
        }
      ]
    },
    {
      "cell_type": "code",
      "metadata": {
        "colab": {
          "base_uri": "https://localhost:8080/"
        },
        "id": "usyVjD3AQwTg",
        "outputId": "a4a25197-c337-429e-93d9-acf2a339b65c"
      },
      "source": [
        "cook_book = {\n",
        "  'салат': [\n",
        "     {'ingridient_name': 'сыр', 'quantity': 50, 'measure': 'гр'},\n",
        "     {'ingridient_name': 'томаты', 'quantity': 2, 'measure': 'шт'},\n",
        "     {'ingridient_name': 'огурцы', 'quantity': 20, 'measure': 'гр'},\n",
        "     {'ingridient_name': 'маслины', 'quantity': 10, 'measure': 'гр'},\n",
        "     {'ingridient_name': 'оливковое масло', 'quantity': 20, 'measure': 'мл'},\n",
        "     {'ingridient_name': 'салат', 'quantity': 10, 'measure': 'гр'},\n",
        "     {'ingridient_name': 'перец', 'quantity': 20, 'measure': 'гр'}\n",
        "    ],\n",
        "  'пицца': [\n",
        "     {'ingridient_name': 'сыр', 'quantity': 20, 'measure': 'гр'},\n",
        "     {'ingridient_name': 'колбаса', 'quantity': 30, 'measure': 'гр'},\n",
        "     {'ingridient_name': 'бекон', 'quantity': 30, 'measure': 'гр'},\n",
        "     {'ingridient_name': 'оливки', 'quantity': 10, 'measure': 'гр'},\n",
        "     {'ingridient_name': 'томаты', 'quantity': 20, 'measure': 'гр'},\n",
        "     {'ingridient_name': 'тесто', 'quantity': 100, 'measure': 'гр'},   \n",
        "    ],\n",
        "  'лимонад': [\n",
        "     {'ingridient_name': 'лимон', 'quantity': 1, 'measure': 'шт'},\n",
        "     {'ingridient_name': 'вода', 'quantity': 200, 'measure': 'мл'},\n",
        "     {'ingridient_name': 'сахар', 'quantity': 10, 'measure': 'гр'},\n",
        "     {'ingridient_name': 'лайм', 'quantity': 20, 'measure': 'гр'},    \n",
        "    ]\n",
        "}\n",
        "\n",
        "foods = {}\n",
        "portions = int(input('Введите количество порций:'))\n",
        "for key, value in cook_book.items():\n",
        "  for ingridients in value:\n",
        "    ingName = (ingridients['ingridient_name'], ingridients['measure'])\n",
        "    ingQuan = ingridients['quantity']\n",
        "    if ingName in foods:\n",
        "      foods[ingName] += ingQuan*portions\n",
        "    else:\n",
        "      foods[ingName] = ingQuan*portions\n",
        "\n",
        "for key, value in foods.items():\n",
        "  print(f\"{key[0].capitalize()}: {value} {key[1]}\")"
      ],
      "execution_count": 4,
      "outputs": [
        {
          "output_type": "stream",
          "text": [
            "Введите количество порций:3\n",
            "Сыр: 210 гр\n",
            "Томаты: 6 шт\n",
            "Огурцы: 60 гр\n",
            "Маслины: 30 гр\n",
            "Оливковое масло: 60 мл\n",
            "Салат: 30 гр\n",
            "Перец: 60 гр\n",
            "Колбаса: 90 гр\n",
            "Бекон: 90 гр\n",
            "Оливки: 30 гр\n",
            "Томаты: 60 гр\n",
            "Тесто: 300 гр\n",
            "Лимон: 3 шт\n",
            "Вода: 600 мл\n",
            "Сахар: 30 гр\n",
            "Лайм: 60 гр\n"
          ],
          "name": "stdout"
        }
      ]
    }
  ]
}