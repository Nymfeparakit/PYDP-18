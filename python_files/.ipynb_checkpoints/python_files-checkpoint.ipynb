{
 "cells": [
  {
   "cell_type": "code",
   "execution_count": 10,
   "metadata": {},
   "outputs": [
    {
     "name": "stdout",
     "output_type": "stream",
     "text": [
      "('1840e0b9d4', 'Продукты')\n",
      "('4e4f90fcfb', 'Электроника')\n",
      "('afea8d72fc', 'Электроника')\n",
      "('373a6055fe', 'Бытовая техника')\n",
      "('9b2ab046f3', 'Электроника')\n",
      "('9f39d307c3', 'Электроника')\n",
      "('44edeffc91', 'Продукты')\n",
      "('704474fa2d', 'Продукты')\n",
      "('1de31be403', 'Бытовая техника')\n",
      "('b71f36a5e4', 'Продукты')\n",
      "('79843a685a', 'Продукты')\n"
     ]
    }
   ],
   "source": [
    "import json\n",
    "\n",
    "def get_purchases(filename):\n",
    "    purchases = {}\n",
    "    with open(filename, 'r') as f:\n",
    "        f.readline()\n",
    "        for line in f:\n",
    "            dict_ = json.loads(line)\n",
    "            purchases[dict_['user_id']] = dict_['category']\n",
    "    return purchases\n",
    "\n",
    "purchases = get_purchases('purchase_log.txt')\n",
    "        \n",
    "# выведем первые 10 элементов для проверки\n",
    "for i, item in enumerate(purchases.items()):\n",
    "    print(item)\n",
    "    if i > 9:\n",
    "        break"
   ]
  },
  {
   "cell_type": "code",
   "execution_count": 11,
   "metadata": {},
   "outputs": [
    {
     "ename": "SyntaxError",
     "evalue": "invalid syntax (<ipython-input-11-61fa93d951cc>, line 4)",
     "output_type": "error",
     "traceback": [
      "\u001b[0;36m  File \u001b[0;32m\"<ipython-input-11-61fa93d951cc>\"\u001b[0;36m, line \u001b[0;32m4\u001b[0m\n\u001b[0;31m    f_funnel.write('user_id,source,category\\n') записываем заголовок в funnel.csv\u001b[0m\n\u001b[0m                                                         ^\u001b[0m\n\u001b[0;31mSyntaxError\u001b[0m\u001b[0;31m:\u001b[0m invalid syntax\n"
     ]
    }
   ],
   "source": [
    "with open('visit_log.csv', 'r') as f_visit:\n",
    "    with open('funnel.csv', 'w') as f_funnel:\n",
    "        f_visit.readline() # пропускаем заголовок\n",
    "        f_funnel.write('user_id,source,category\\n') # записываем заголовок в funnel.csv\n",
    "        for line.strip().split(',') in f_visit:\n",
    "            if line[0] in purchases:\n",
    "                f_funnel.write(f'{line[0]},{line[1]},{purchases[line[0]]}\\n')"
   ]
  },
  {
   "cell_type": "code",
   "execution_count": null,
   "metadata": {},
   "outputs": [],
   "source": []
  }
 ],
 "metadata": {
  "kernelspec": {
   "display_name": "Python 3",
   "language": "python",
   "name": "python3"
  },
  "language_info": {
   "codemirror_mode": {
    "name": "ipython",
    "version": 3
   },
   "file_extension": ".py",
   "mimetype": "text/x-python",
   "name": "python",
   "nbconvert_exporter": "python",
   "pygments_lexer": "ipython3",
   "version": "3.7.9"
  }
 },
 "nbformat": 4,
 "nbformat_minor": 4
}
