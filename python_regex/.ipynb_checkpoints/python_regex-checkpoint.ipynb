{
 "cells": [
  {
   "cell_type": "code",
   "execution_count": 1,
   "metadata": {},
   "outputs": [],
   "source": [
    "import re"
   ]
  },
  {
   "cell_type": "markdown",
   "metadata": {},
   "source": [
    "### Задание 1"
   ]
  },
  {
   "cell_type": "code",
   "execution_count": 25,
   "metadata": {},
   "outputs": [],
   "source": [
    "def get_vehicle_letters():\n",
    "    vehicle_letters_cyrillic = 'АВЕКМНОРСТУХ' # буквы, которые используются в рег. номерах\n",
    "    vehicle_letters_latinic = 'ABEKMHOPCTYX'\n",
    "    return vehicle_letters_cyrillic + vehicle_letters_latinic\n",
    "\n",
    "def is_valid_vehicle_number(number_str):\n",
    "    pattern = r'[{ltrs}]\\d{{3}}[{ltrs}]{{2}}\\d{{2,3}}$'.format(ltrs = get_vehicle_letters())\n",
    "    if re.match(pattern, number_str):\n",
    "        number, region = split_region(number_str)\n",
    "        print(f'Номер {number} валиден. Регион: {region}')\n",
    "    else:\n",
    "        print('Номер не валиден')\n",
    "\n",
    "def split_region(number_str):\n",
    "    number_pattern = r'[{ltrs}]\\d{{3}}[{ltrs}]{{2}}'.format(ltrs = get_vehicle_letters())\n",
    "    region_pattern = r'\\d{2,3}$'\n",
    "    return re.match(number_pattern, number_str).group(0), re.search(region_pattern, number_str).group(0)"
   ]
  },
  {
   "cell_type": "code",
   "execution_count": 26,
   "metadata": {},
   "outputs": [
    {
     "name": "stdout",
     "output_type": "stream",
     "text": [
      "Номер А222BС валиден. Регион: 96\n"
     ]
    }
   ],
   "source": [
    "is_valid_vehicle_number('А222BС96')"
   ]
  },
  {
   "cell_type": "code",
   "execution_count": 27,
   "metadata": {},
   "outputs": [
    {
     "name": "stdout",
     "output_type": "stream",
     "text": [
      "Номер не валиден\n"
     ]
    }
   ],
   "source": [
    "is_valid_vehicle_number('АБ22ВВ193')"
   ]
  },
  {
   "cell_type": "code",
   "execution_count": 29,
   "metadata": {},
   "outputs": [
    {
     "name": "stdout",
     "output_type": "stream",
     "text": [
      "Номер не валиден\n"
     ]
    }
   ],
   "source": [
    "is_valid_vehicle_number('АAC222BС96')"
   ]
  },
  {
   "cell_type": "markdown",
   "metadata": {},
   "source": [
    "### Задание 2"
   ]
  },
  {
   "cell_type": "code",
   "execution_count": 60,
   "metadata": {},
   "outputs": [],
   "source": [
    "def remove_repeated_words(str):\n",
    "    return re.sub(r'\\b(\\w+)(\\s\\1\\b)+', r'\\1', str)"
   ]
  },
  {
   "cell_type": "code",
   "execution_count": 61,
   "metadata": {},
   "outputs": [
    {
     "name": "stdout",
     "output_type": "stream",
     "text": [
      "Напишите функцию, которая будет удалять все последовательные повторы слов из заданной строки при помощи регулярных выражений\n"
     ]
    }
   ],
   "source": [
    "str = \"Напишите функцию функцию, которая будет будет будет будет удалять \" \\\n",
    "\"все все все все последовательные повторы слов из из из из заданной \" \\\n",
    "\"строки строки при помощи регулярных выражений выражений\"\n",
    "print(remove_repeated_words(str))"
   ]
  },
  {
   "cell_type": "markdown",
   "metadata": {},
   "source": [
    "### Задание 3"
   ]
  },
  {
   "cell_type": "code",
   "execution_count": 66,
   "metadata": {},
   "outputs": [],
   "source": [
    "def get_acronym(str):\n",
    "    first_letters = re.findall(r'\\b\\w', str)\n",
    "    return ''.join(first_letters).upper()"
   ]
  },
  {
   "cell_type": "code",
   "execution_count": 67,
   "metadata": {},
   "outputs": [
    {
     "data": {
      "text/plain": [
       "'ИТ'"
      ]
     },
     "execution_count": 67,
     "metadata": {},
     "output_type": "execute_result"
    }
   ],
   "source": [
    "get_acronym('Информационные технологии')"
   ]
  },
  {
   "cell_type": "code",
   "execution_count": 68,
   "metadata": {},
   "outputs": [
    {
     "data": {
      "text/plain": [
       "'NFC'"
      ]
     },
     "execution_count": 68,
     "metadata": {},
     "output_type": "execute_result"
    }
   ],
   "source": [
    "get_acronym('Near Field Communication')"
   ]
  },
  {
   "cell_type": "markdown",
   "metadata": {},
   "source": [
    "### Задание 4"
   ]
  },
  {
   "cell_type": "code",
   "execution_count": 73,
   "metadata": {},
   "outputs": [],
   "source": [
    "from collections import defaultdict\n",
    "\n",
    "\n",
    "def mail_domain_distribution(mails_list):\n",
    "    mails_distribution = defaultdict(lambda: 0)\n",
    "    for mail in mails_list:\n",
    "        domain = re.search(r'(?<=@)\\w+\\.[a-z]+$', mail)\n",
    "        if domain:\n",
    "            mails_distribution[domain.group(0)] += 1\n",
    "    return mails_distribution"
   ]
  },
  {
   "cell_type": "code",
   "execution_count": 74,
   "metadata": {},
   "outputs": [
    {
     "name": "stdout",
     "output_type": "stream",
     "text": [
      "gmail.com: 2\n",
      "test.in: 1\n",
      "ya.ru: 2\n",
      "mail.ru: 1\n"
     ]
    }
   ],
   "source": [
    "mails_distr = mail_domain_distribution(['test@gmail.com', 'xyz@test.in', 'test@ya.ru', 'xyz@mail.ru', 'xyz@ya.ru', 'xyz@gmail.com'])\n",
    "for domain, number in mails_distr.items():\n",
    "    print(f\"{domain}: {number}\")"
   ]
  },
  {
   "cell_type": "markdown",
   "metadata": {},
   "source": [
    "### Задание 5"
   ]
  },
  {
   "cell_type": "code",
   "execution_count": 87,
   "metadata": {},
   "outputs": [],
   "source": [
    "def count_vowels_consonants(text):\n",
    "    vowels_pattern = r'\\b[aeiouаоуыэяёюие]'\n",
    "    consonants_latin_patter = r'\\b[bcdfghj-np-tv-z]'\n",
    "    consonants_cyrillic_patter = r'\\b[б-джзйк-нп-тф-щ]'\n",
    "    vowels_count = len(re.findall(vowels_pattern, text.lower()))\n",
    "    consonants_latin_count = len(re.findall(consonants_latin_patter, text.lower()))\n",
    "    consonants_cyrillic_count = len(re.findall(consonants_cyrillic_patter, text.lower()))\n",
    "    print(f\"Слов на гласные буквы: {vowels_count}\")\n",
    "    print(f\"Слов на согласные буквы: {consonants_latin_count + consonants_cyrillic_count}\")"
   ]
  },
  {
   "cell_type": "code",
   "execution_count": 88,
   "metadata": {},
   "outputs": [
    {
     "name": "stdout",
     "output_type": "stream",
     "text": [
      "Слов на гласные буквы: 9\n",
      "Слов на согласные буквы: 21\n"
     ]
    }
   ],
   "source": [
    "text = \"Эталонной реализацией Python является интерпретатор CPython, поддерживающий большинство активно \" \\\n",
    "\"используемых платформ. Он распространяется под свободной лицензией Python Software Foundation License, \" \\\n",
    "\"позволяющей использовать его без ограничений в любых приложениях, включая проприетарные.\"\n",
    "count_vowels_consonants(text)"
   ]
  },
  {
   "cell_type": "markdown",
   "metadata": {},
   "source": [
    "### Задание 6"
   ]
  },
  {
   "cell_type": "code",
   "execution_count": 34,
   "metadata": {},
   "outputs": [],
   "source": [
    "def format_phone(phone_str):\n",
    "    pattern_begin = r'(\\+7|7|8)'\n",
    "    pattern_region_list = [r'\\s(\\d{3})\\s', r'\\s?\\((\\d{3})\\)\\s?', r'-(\\d{3})-']\n",
    "    pattern_number_list = [r'(\\d{3})\\s(\\d{2})\\s(\\d{2})', r'(\\d{3})-(\\d{2})-(\\d{2})']\n",
    "    for pattern_region in pattern_region_list:\n",
    "        for pattern_number in pattern_number_list:\n",
    "            pattern = pattern_begin + pattern_region + pattern_number + r'$'\n",
    "            if re.match(pattern, phone_str):\n",
    "                print('Результат: ' + re.sub(pattern, r'+7-\\2-\\3-\\4-\\5', phone_str))\n",
    "                return\n",
    "    print('Результат: Номер не валиден')"
   ]
  },
  {
   "cell_type": "code",
   "execution_count": 35,
   "metadata": {},
   "outputs": [
    {
     "name": "stdout",
     "output_type": "stream",
     "text": [
      "Результат: +7-955-123-45-67\n"
     ]
    }
   ],
   "source": [
    "format_phone('+7 955 123-45-67')"
   ]
  },
  {
   "cell_type": "code",
   "execution_count": 36,
   "metadata": {},
   "outputs": [
    {
     "name": "stdout",
     "output_type": "stream",
     "text": [
      "Результат: Номер не валиден\n"
     ]
    }
   ],
   "source": [
    "format_phone('8(955)123-45-567')"
   ]
  },
  {
   "cell_type": "code",
   "execution_count": 37,
   "metadata": {},
   "outputs": [
    {
     "name": "stdout",
     "output_type": "stream",
     "text": [
      "Результат: +7-955-123-45-67\n"
     ]
    }
   ],
   "source": [
    "format_phone('+7 955 123 45 67')"
   ]
  },
  {
   "cell_type": "code",
   "execution_count": 38,
   "metadata": {},
   "outputs": [
    {
     "name": "stdout",
     "output_type": "stream",
     "text": [
      "Результат: +7-955-123-45-67\n"
     ]
    }
   ],
   "source": [
    "format_phone('7(955) 123-45-67')"
   ]
  },
  {
   "cell_type": "code",
   "execution_count": 39,
   "metadata": {},
   "outputs": [
    {
     "name": "stdout",
     "output_type": "stream",
     "text": [
      "Результат: Номер не валиден\n"
     ]
    }
   ],
   "source": [
    "format_phone('423-123-45-5555')"
   ]
  },
  {
   "cell_type": "code",
   "execution_count": 40,
   "metadata": {},
   "outputs": [
    {
     "name": "stdout",
     "output_type": "stream",
     "text": [
      "Результат: Номер не валиден\n"
     ]
    }
   ],
   "source": [
    "format_phone('123-456-789')"
   ]
  },
  {
   "cell_type": "code",
   "execution_count": null,
   "metadata": {},
   "outputs": [],
   "source": []
  }
 ],
 "metadata": {
  "kernelspec": {
   "display_name": "Python 3",
   "language": "python",
   "name": "python3"
  },
  "language_info": {
   "codemirror_mode": {
    "name": "ipython",
    "version": 3
   },
   "file_extension": ".py",
   "mimetype": "text/x-python",
   "name": "python",
   "nbconvert_exporter": "python",
   "pygments_lexer": "ipython3",
   "version": "3.7.9"
  }
 },
 "nbformat": 4,
 "nbformat_minor": 4
}
