{
  "nbformat": 4,
  "nbformat_minor": 0,
  "metadata": {
    "colab": {
      "name": "PyTT_05.ipynb",
      "provenance": [],
      "collapsed_sections": []
    },
    "kernelspec": {
      "name": "python3",
      "display_name": "Python 3"
    },
    "language_info": {
      "name": "python"
    }
  },
  "cells": [
    {
      "cell_type": "markdown",
      "metadata": {
        "id": "Ta4FWwX3h6IQ"
      },
      "source": [
        "### Задание 1"
      ]
    },
    {
      "cell_type": "code",
      "metadata": {
        "id": "_TuaaF2Lhrqp"
      },
      "source": [
        "import numpy as np"
      ],
      "execution_count": 1,
      "outputs": []
    },
    {
      "cell_type": "code",
      "metadata": {
        "id": "Q_YsX0Z8iCsK"
      },
      "source": [
        "def make_array(max_num):\n",
        "  return np.arange(max_num-1, -1, -1)"
      ],
      "execution_count": 6,
      "outputs": []
    },
    {
      "cell_type": "code",
      "metadata": {
        "colab": {
          "base_uri": "https://localhost:8080/"
        },
        "id": "d2rPsTy6iqHi",
        "outputId": "e7f23e50-ed9f-4565-c168-9c093e111e25"
      },
      "source": [
        "make_array(10)"
      ],
      "execution_count": 7,
      "outputs": [
        {
          "output_type": "execute_result",
          "data": {
            "text/plain": [
              "array([9, 8, 7, 6, 5, 4, 3, 2, 1, 0])"
            ]
          },
          "metadata": {
            "tags": []
          },
          "execution_count": 7
        }
      ]
    },
    {
      "cell_type": "markdown",
      "metadata": {
        "id": "zPs8tO7AjB6Q"
      },
      "source": [
        "### Задание 2"
      ]
    },
    {
      "cell_type": "code",
      "metadata": {
        "id": "ftI01ufajFYT"
      },
      "source": [
        "def make_diag_matrix(max_num):\n",
        "  return np.diag(make_array(max_num))"
      ],
      "execution_count": 8,
      "outputs": []
    },
    {
      "cell_type": "code",
      "metadata": {
        "id": "pWQfls3Jkj6Q"
      },
      "source": [
        "def sum_diag_elements(diag_matrix):\n",
        "  return np.trace(diag_matrix)"
      ],
      "execution_count": 10,
      "outputs": []
    },
    {
      "cell_type": "code",
      "metadata": {
        "colab": {
          "base_uri": "https://localhost:8080/"
        },
        "id": "Wu3xWjAVjd7f",
        "outputId": "8bc05ca4-4404-4972-d2ab-5dcf28203d33"
      },
      "source": [
        "make_diag_matrix(5)"
      ],
      "execution_count": 13,
      "outputs": [
        {
          "output_type": "execute_result",
          "data": {
            "text/plain": [
              "array([[4, 0, 0, 0, 0],\n",
              "       [0, 3, 0, 0, 0],\n",
              "       [0, 0, 2, 0, 0],\n",
              "       [0, 0, 0, 1, 0],\n",
              "       [0, 0, 0, 0, 0]])"
            ]
          },
          "metadata": {
            "tags": []
          },
          "execution_count": 13
        }
      ]
    },
    {
      "cell_type": "code",
      "metadata": {
        "colab": {
          "base_uri": "https://localhost:8080/"
        },
        "id": "KZpc2LAmlErl",
        "outputId": "f77a69b8-3e33-4b0e-8df3-541b7a09adfb"
      },
      "source": [
        "sum_diag_elements(make_diag_matrix(5))"
      ],
      "execution_count": 14,
      "outputs": [
        {
          "output_type": "execute_result",
          "data": {
            "text/plain": [
              "10"
            ]
          },
          "metadata": {
            "tags": []
          },
          "execution_count": 14
        }
      ]
    },
    {
      "cell_type": "markdown",
      "metadata": {
        "id": "xDcY-03llJDw"
      },
      "source": [
        "### Задание 3"
      ]
    },
    {
      "cell_type": "code",
      "metadata": {
        "colab": {
          "base_uri": "https://localhost:8080/"
        },
        "id": "LxiLo_R0lLjo",
        "outputId": "0380b2e2-33fe-4003-9bae-fb8fbe8c0ea5"
      },
      "source": [
        "A = np.array([4, 2, 1, 1, 3, 0, 0, 5, 4]).reshape((3,3))\n",
        "b = np.array([4, 12, -3])\n",
        "x = np.linalg.solve(A,b)\n",
        "x"
      ],
      "execution_count": 20,
      "outputs": [
        {
          "output_type": "execute_result",
          "data": {
            "text/plain": [
              "array([ 0.46666667,  3.84444444, -5.55555556])"
            ]
          },
          "metadata": {
            "tags": []
          },
          "execution_count": 20
        }
      ]
    },
    {
      "cell_type": "markdown",
      "metadata": {
        "id": "id2drUkbmhAH"
      },
      "source": [
        "### Задание 4"
      ]
    },
    {
      "cell_type": "code",
      "metadata": {
        "id": "ZDUkx4ZsmjKf"
      },
      "source": [
        "users_stats = np.array(\n",
        "    [\n",
        "        [2, 1, 0, 0, 0, 0],\n",
        "        [1, 1, 2, 1, 0, 0],\n",
        "        [2, 0, 1, 0, 0, 0],\n",
        "        [1, 1, 2, 1, 0, 1],\n",
        "        [0, 0, 1, 2, 0, 0],\n",
        "        [0, 0, 0, 0, 0, 5],\n",
        "        [1, 0, 0, 0, 0, 0],\n",
        "        [0, 1, 1, 0, 0, 0],\n",
        "        [0, 0, 0, 1, 1, 3],\n",
        "        [1, 0, 0, 2, 1, 4]\n",
        "    ], \n",
        "    np.int32\n",
        ")"
      ],
      "execution_count": 21,
      "outputs": []
    },
    {
      "cell_type": "code",
      "metadata": {
        "id": "jRyHjwhZnh8k"
      },
      "source": [
        "def get_cos_value(vect_1, vect_2):\n",
        "  vect_1_len = np.linalg.norm(vect_1)\n",
        "  vect_2_len = np.linalg.norm(vect_2)\n",
        "    \n",
        "  return np.dot(vect_1, vect_2) / (vect_1_len * vect_2_len)"
      ],
      "execution_count": 26,
      "outputs": []
    },
    {
      "cell_type": "code",
      "metadata": {
        "id": "KU7OMn0BnWhT"
      },
      "source": [
        "def get_closest_customer(users_stats, next_user_stats):\n",
        "  tmp_array = np.zeros((1, np.shape(users_stats)[0]))\n",
        "  for i in range(0, np.shape(users_stats)[0]):\n",
        "    tmp_array[0][i] = get_cos_value(users_stats[i], next_user_stats)\n",
        "  return np.argmax(tmp_array)+1"
      ],
      "execution_count": 51,
      "outputs": []
    },
    {
      "cell_type": "code",
      "metadata": {
        "id": "n2Pr6i48nOJG"
      },
      "source": [
        "next_user_stats = np.array([0, 1, 2, 0, 0, 0])"
      ],
      "execution_count": 22,
      "outputs": []
    },
    {
      "cell_type": "code",
      "metadata": {
        "colab": {
          "base_uri": "https://localhost:8080/"
        },
        "id": "hhQ68XJCo_IR",
        "outputId": "18b753ea-8415-4476-f3bd-10727bac13a3"
      },
      "source": [
        "print(f\"ID: {get_closest_customer(users_stats, next_user_stats)}\")"
      ],
      "execution_count": 52,
      "outputs": [
        {
          "output_type": "stream",
          "text": [
            "ID: 8\n"
          ],
          "name": "stdout"
        }
      ]
    }
  ]
}