{
  "nbformat": 4,
  "nbformat_minor": 0,
  "metadata": {
    "colab": {
      "name": "base_stats_6.ipynb",
      "provenance": [],
      "collapsed_sections": []
    },
    "kernelspec": {
      "name": "python3",
      "display_name": "Python 3"
    },
    "language_info": {
      "name": "python"
    }
  },
  "cells": [
    {
      "cell_type": "code",
      "metadata": {
        "id": "XKMfHa48_O-H"
      },
      "source": [
        "import numpy as np\n",
        "import pandas as pd\n",
        "import matplotlib.pyplot as plt\n",
        "import scipy.stats as sp"
      ],
      "execution_count": null,
      "outputs": []
    },
    {
      "cell_type": "markdown",
      "metadata": {
        "id": "sdtjtH27AQFM"
      },
      "source": [
        "**Задание 0**"
      ]
    },
    {
      "cell_type": "code",
      "metadata": {
        "colab": {
          "base_uri": "https://localhost:8080/"
        },
        "id": "9i6R__9xAKNg",
        "outputId": "6c7748b8-33b2-4b20-965b-7e30af86f3aa"
      },
      "source": [
        "sigma = 15\n",
        "delta = 3\n",
        "n = int((sigma*sp.norm().ppf(0.975)/delta)**2)\n",
        "print(f'n = {n}')"
      ],
      "execution_count": null,
      "outputs": [
        {
          "output_type": "stream",
          "text": [
            "n = 96\n"
          ],
          "name": "stdout"
        }
      ]
    },
    {
      "cell_type": "markdown",
      "metadata": {
        "id": "tiqiZCV5DvjU"
      },
      "source": [
        "**Задание 1**"
      ]
    },
    {
      "cell_type": "code",
      "metadata": {
        "id": "6IzKOOhtHT4P"
      },
      "source": [
        "def get_interval(N, sigma, x_mean):\n",
        "  return (x_mean - (sigma*sp.norm().ppf(0.99))/np.sqrt(N)), (x_mean + (sigma*sp.norm().ppf(0.99))/np.sqrt(N))"
      ],
      "execution_count": null,
      "outputs": []
    },
    {
      "cell_type": "code",
      "metadata": {
        "colab": {
          "base_uri": "https://localhost:8080/"
        },
        "id": "M3MNXzQSKOaV",
        "outputId": "fc615af8-f5e5-4403-e91f-0011f3fa2965"
      },
      "source": [
        "a, b = get_interval(25, 15, 130)\n",
        "int(b-a)"
      ],
      "execution_count": null,
      "outputs": [
        {
          "output_type": "execute_result",
          "data": {
            "text/plain": [
              "13"
            ]
          },
          "metadata": {
            "tags": []
          },
          "execution_count": 47
        }
      ]
    },
    {
      "cell_type": "markdown",
      "metadata": {
        "id": "hXhV1wHnMHUD"
      },
      "source": [
        "**Задание 2**"
      ]
    },
    {
      "cell_type": "code",
      "metadata": {
        "id": "uYEWZyRWMJ__"
      },
      "source": [
        "def t_student(arr_1, arr_2):\n",
        "  n_1 = len(arr_1)\n",
        "  n_2 = len(arr_2)\n",
        "  mean_1 = np.mean(arr_1)\n",
        "  mean_2 = np.mean(arr_2)\n",
        "  s_1 = np.std(arr_1, ddof = 1)\n",
        "  s_2 = np.std(arr_2, ddof = 1)\n",
        "  return (mean_1-mean_2)/(np.sqrt((s_1**2)/n_1+(s_2**2)/n_2))"
      ],
      "execution_count": null,
      "outputs": []
    },
    {
      "cell_type": "code",
      "metadata": {
        "colab": {
          "base_uri": "https://localhost:8080/"
        },
        "id": "aNMMHu3lQB-g",
        "outputId": "e7ecaeff-46cc-4167-fd61-5f46eeb44dc3"
      },
      "source": [
        "# H0 - выборки статистически неразличимы\n",
        "# H1 - выборки статистически различимы\n",
        "\n",
        "population_men  = sp.norm.rvs(loc=171, scale=19, size=1200000)  # Выборка мужчин со средним ростом 171\n",
        "population_women = sp.norm.rvs(loc=165, scale=16, size=1200000)  # Выборка женщин со средним ростом 165\n",
        "\n",
        "print(t_student(population_men, population_women))\n",
        "t, p = sp.ttest_ind(a=population_men, b=population_women, equal_var=False)\n",
        "print (f'{t}, {p}')"
      ],
      "execution_count": null,
      "outputs": [
        {
          "output_type": "stream",
          "text": [
            "263.09700020886834\n",
            "263.09700020886834, 0.0\n"
          ],
          "name": "stdout"
        }
      ]
    },
    {
      "cell_type": "code",
      "metadata": {
        "colab": {
          "base_uri": "https://localhost:8080/",
          "height": 375
        },
        "id": "_gcWRTbrGHWq",
        "outputId": "b6e088e2-aa57-47d0-93e3-a4bdac747594"
      },
      "source": [
        "plt.hist(population_men, 10)\n",
        "plt.hist(population_women, 10)\n",
        "# Большое значение t и нулевое значение p говорят о том, что распределения роста \n",
        "# мужчин и женщин различны (различные средние и дисперсии) и различие статистически значимо"
      ],
      "execution_count": null,
      "outputs": [
        {
          "output_type": "execute_result",
          "data": {
            "text/plain": [
              "(array([1.01000e+02, 3.22900e+03, 3.73790e+04, 1.85584e+05, 4.02397e+05,\n",
              "        3.82437e+05, 1.57992e+05, 2.85520e+04, 2.25100e+03, 7.80000e+01]),\n",
              " array([ 90.40705464, 105.52154071, 120.63602679, 135.75051286,\n",
              "        150.86499893, 165.979485  , 181.09397107, 196.20845714,\n",
              "        211.32294322, 226.43742929, 241.55191536]),\n",
              " <a list of 10 Patch objects>)"
            ]
          },
          "metadata": {
            "tags": []
          },
          "execution_count": 72
        },
        {
          "output_type": "display_data",
          "data": {
            "image/png": "[encoded data removed]",
            "text/plain": [
              "<Figure size 432x288 with 1 Axes>"
            ]
          },
          "metadata": {
            "tags": [],
            "needs_background": "light"
          }
        }
      ]
    },
    {
      "cell_type": "markdown",
      "metadata": {
        "id": "2Iv1O_I5KV2H"
      },
      "source": [
        "**Задание 3**"
      ]
    },
    {
      "cell_type": "code",
      "metadata": {
        "colab": {
          "base_uri": "https://localhost:8080/"
        },
        "id": "UCRlKMpsJwbe",
        "outputId": "c7a88ab0-a261-4845-c802-6724a3992cfc"
      },
      "source": [
        "sigma = 150\n",
        "delta = 50\n",
        "n = int((sigma*sp.norm().ppf(0.975)/delta)**2)\n",
        "print(f'Объем выборки для исследования среднего чека за кофе: n = {n}')"
      ],
      "execution_count": null,
      "outputs": [
        {
          "output_type": "stream",
          "text": [
            "Объем выборки для исследования среднего чека за кофе: n = 34\n"
          ],
          "name": "stdout"
        }
      ]
    },
    {
      "cell_type": "markdown",
      "metadata": {
        "id": "hz9r90g0LBcc"
      },
      "source": [
        "**Задание 4**"
      ]
    },
    {
      "cell_type": "code",
      "metadata": {
        "colab": {
          "base_uri": "https://localhost:8080/",
          "height": 112
        },
        "id": "cE8ITF9QLDuH",
        "outputId": "93e6fa54-2012-46e8-fb2a-8e1ee33237c4"
      },
      "source": [
        "alpha = 0.05\n",
        "observations = pd.DataFrame([[10,15],[39,34]],\n",
        "                            index=['Дождь','Солнце'],\n",
        "                            columns=['Ответ волшебника','Реальность'])\n",
        "observations"
      ],
      "execution_count": null,
      "outputs": [
        {
          "output_type": "execute_result",
          "data": {
            "text/html": [
              "<div>\n",
              "<style scoped>\n",
              "    .dataframe tbody tr th:only-of-type {\n",
              "        vertical-align: middle;\n",
              "    }\n",
              "\n",
              "    .dataframe tbody tr th {\n",
              "        vertical-align: top;\n",
              "    }\n",
              "\n",
              "    .dataframe thead th {\n",
              "        text-align: right;\n",
              "    }\n",
              "</style>\n",
              "<table border=\"1\" class=\"dataframe\">\n",
              "  <thead>\n",
              "    <tr style=\"text-align: right;\">\n",
              "      <th></th>\n",
              "      <th>Ответ волшебника</th>\n",
              "      <th>Реальность</th>\n",
              "    </tr>\n",
              "  </thead>\n",
              "  <tbody>\n",
              "    <tr>\n",
              "      <th>Дождь</th>\n",
              "      <td>10</td>\n",
              "      <td>15</td>\n",
              "    </tr>\n",
              "    <tr>\n",
              "      <th>Солнце</th>\n",
              "      <td>39</td>\n",
              "      <td>34</td>\n",
              "    </tr>\n",
              "  </tbody>\n",
              "</table>\n",
              "</div>"
            ],
            "text/plain": [
              "        Ответ волшебника  Реальность\n",
              "Дождь                 10          15\n",
              "Солнце                39          34"
            ]
          },
          "metadata": {
            "tags": []
          },
          "execution_count": 42
        }
      ]
    },
    {
      "cell_type": "code",
      "metadata": {
        "colab": {
          "base_uri": "https://localhost:8080/"
        },
        "id": "gqKAm4gNLIMg",
        "outputId": "4d785c26-2d94-4583-9cd6-3fefea69d725"
      },
      "source": [
        "chi, pval, dof, exp = sp.chi2_contingency(observations)\n",
        "critical_value = sp.chi2.ppf(0.95, dof)  \n",
        "print('p-value is: ', pval)\n",
        "#print('chi is: ', chi)\n",
        "#print('critical_value is: ', critical_value)\n",
        "\n",
        "print(f'{pval > alpha}')\n",
        "# значение p больше уровня значимости 0.05, следовательно принимаем нулевую гипотезу, что\n",
        "# ответы волшебника случайны"
      ],
      "execution_count": null,
      "outputs": [
        {
          "output_type": "stream",
          "text": [
            "p-value is:  0.35396880166541644\n",
            "True\n"
          ],
          "name": "stdout"
        }
      ]
    },
    {
      "cell_type": "markdown",
      "metadata": {
        "id": "Drk5k6pHPiCG"
      },
      "source": [
        "**Задание 5**"
      ]
    },
    {
      "cell_type": "code",
      "metadata": {
        "id": "r9QIzW7CSzyv"
      },
      "source": [
        "def mean_confidence_interval(data, confidence=0.95):   \n",
        "    n = len(data)\n",
        "    m, se = np.mean(data), sp.sem(data)\n",
        "    h = se * sp.t.ppf((1 + confidence)/2, n)\n",
        "    return m-h, m, m+h"
      ],
      "execution_count": null,
      "outputs": []
    },
    {
      "cell_type": "code",
      "metadata": {
        "colab": {
          "base_uri": "https://localhost:8080/"
        },
        "id": "iBr79-1uPPiN",
        "outputId": "51d9ca4d-a329-4ba2-9457-c266957d1244"
      },
      "source": [
        "beta = 0.9\n",
        "data = [4,5,8,9,6,7,5,6,7,8,5,6,7,0,9,8,4,6,\n",
        "        7,9,8,6,5,7,8,9,6,7,5,8,6,7,9,5,10]\n",
        "mean_confidence_interval(data, beta)"
      ],
      "execution_count": null,
      "outputs": [
        {
          "output_type": "execute_result",
          "data": {
            "text/plain": [
              "(6.074074746111319, 6.628571428571429, 7.183068111031539)"
            ]
          },
          "metadata": {
            "tags": []
          },
          "execution_count": 74
        }
      ]
    },
    {
      "cell_type": "markdown",
      "metadata": {
        "id": "9g96qZcNUAf2"
      },
      "source": [
        "**Задание 6**"
      ]
    },
    {
      "cell_type": "code",
      "metadata": {
        "id": "7POUujmAUDUB"
      },
      "source": [
        "data_1 = [4,5,8,9,6,7,5,6,7,8,5,6,7,0,9,8,4,\n",
        "          6,7,9,8,6,5,7,8,9,6,7,5,8,6,7,9,5,10]\n",
        "\n",
        "data_2 = [8,5,6,7,0,1,8,4,6,7,0,2,6,5,7,5,3,5,3,\n",
        "          5,3,5,5,8,7,6,4,5,3,5,4,6,4,5,3,2,6,4,\n",
        "          2,6,1,0,4,3,5,4,3,4,5,4,3,4,5,4,3,4,5,\n",
        "          3,4,4,1,2,4,3,1,2,4,3,2,1,5,3,4,6,4,5,\n",
        "          3,2,4,5,6,4,3,1,3,5,3,4,4,4,2,5,3]\n",
        "# Гипотеза H0 - выборки принадлежат одному распределению\n",
        "# Гипотеза H1 - выборки не принадлежат одному распределению"
      ],
      "execution_count": null,
      "outputs": []
    },
    {
      "cell_type": "code",
      "metadata": {
        "colab": {
          "base_uri": "https://localhost:8080/"
        },
        "id": "aUfkFURw01p4",
        "outputId": "b6e2774b-b2ef-4e56-a00d-fc7d31f8f1e2"
      },
      "source": [
        "t, p = sp.ttest_ind(a=data_1, b=data_2, equal_var=False)\n",
        "print (f'{t}, {p}')\n",
        "\n",
        "N = len(data_1) + len(data_2) - 2\n",
        "t_ctrl = sp.t.ppf(0.9995, N) # рассчитаем критическое значение t, с N1 + N2 - 2 степенями свободы и уровне значимости 0.001\n",
        "print(f't_ctrl = {t_ctrl}')"
      ],
      "execution_count": null,
      "outputs": [
        {
          "output_type": "stream",
          "text": [
            "7.068404675178226, 2.4974180382616264e-09\n",
            "t_ctrl = 3.3694197811539053\n"
          ],
          "name": "stdout"
        }
      ]
    },
    {
      "cell_type": "code",
      "metadata": {
        "colab": {
          "base_uri": "https://localhost:8080/",
          "height": 320
        },
        "id": "XmsZ65ql0buI",
        "outputId": "556addd8-71d5-4c28-da0c-aefc28591fd1"
      },
      "source": [
        "# C учетом того, что p < уровня значимости, а t > t_ctrl, то принимаем гипотезу H1 - что выборки не принадлежат одному распределению\n",
        "plt.hist(data_2, bins=10)\n",
        "plt.hist(data_1, bins=10)"
      ],
      "execution_count": null,
      "outputs": [
        {
          "output_type": "execute_result",
          "data": {
            "text/plain": [
              "(array([1., 0., 0., 0., 2., 6., 7., 7., 6., 6.]),\n",
              " array([ 0.,  1.,  2.,  3.,  4.,  5.,  6.,  7.,  8.,  9., 10.]),\n",
              " <a list of 10 Patch objects>)"
            ]
          },
          "metadata": {
            "tags": []
          },
          "execution_count": 5
        },
        {
          "output_type": "display_data",
          "data": {
            "image/png": "[encoded data removed]",
            "text/plain": [
              "<Figure size 432x288 with 1 Axes>"
            ]
          },
          "metadata": {
            "tags": [],
            "needs_background": "light"
          }
        }
      ]
    },
    {
      "cell_type": "markdown",
      "metadata": {
        "id": "_AISwlL75z-K"
      },
      "source": [
        "**Задание 7**"
      ]
    },
    {
      "cell_type": "code",
      "metadata": {
        "id": "qZw0ExgJ5-KF"
      },
      "source": [
        "# H0 - распределение нормальное\n",
        "# H1 - распределение ненормальное\n",
        "# p-value = 0.03\n",
        "\n",
        "url  = 'https://raw.githubusercontent.com/a-milenkin/datasets_for_t-tests/main/AB_NYC_2019.csv'\n",
        "df = pd.read_csv(url, error_bad_lines=False)\n",
        "df.dropna(how='any',inplace=True)"
      ],
      "execution_count": null,
      "outputs": []
    },
    {
      "cell_type": "code",
      "metadata": {
        "colab": {
          "base_uri": "https://localhost:8080/"
        },
        "id": "A-UoynvR_sMw",
        "outputId": "0191eef9-5db7-419e-cdac-7ec81692aba0"
      },
      "source": [
        "df[df.price<500].shape[0]"
      ],
      "execution_count": null,
      "outputs": [
        {
          "output_type": "execute_result",
          "data": {
            "text/plain": [
              "38085"
            ]
          },
          "metadata": {
            "tags": []
          },
          "execution_count": 18
        }
      ]
    },
    {
      "cell_type": "code",
      "metadata": {
        "colab": {
          "base_uri": "https://localhost:8080/"
        },
        "id": "Pfddsxot9Wvh",
        "outputId": "07f4669d-70d3-4c87-b063-bf734dd51f1e"
      },
      "source": [
        "mn = df[df.price<500].price.mean()\n",
        "sigma = df[df.price<500].price.std()\n",
        "\n",
        "gen = sp.norm.rvs(loc=mn, scale=sigma, size=df[df.price<500].shape[0])\n",
        "# С помощью критерия хи-квадрат проверим, является ли рапределение цен на недвижимость нормальным\n",
        "\n",
        "sp.chisquare(df[df.price<500]['price'], f_exp=gen)"
      ],
      "execution_count": null,
      "outputs": [
        {
          "output_type": "execute_result",
          "data": {
            "text/plain": [
              "Power_divergenceResult(statistic=25361593.554194514, pvalue=0.0)"
            ]
          },
          "metadata": {
            "tags": []
          },
          "execution_count": 22
        }
      ]
    },
    {
      "cell_type": "code",
      "metadata": {
        "id": "OrhZw_TBBO3e"
      },
      "source": [
        "# Получаем, что pvalue = 0.0 меньше заданного уровня значимости = 0.03\n",
        "# Значит, вероятность того, что наше распределение цен на недвижимость подчиняется нормальному закону, \n",
        "# а имеющиеся данные обусловлены случайностью - равна 0, что меньше допустимого порога в 3%\n",
        "# Следовательно, гипотезу H0 о принадлежности распределения к нормальному распределению мы можем смело отметать"
      ],
      "execution_count": null,
      "outputs": []
    },
    {
      "cell_type": "markdown",
      "metadata": {
        "id": "3XDGG0w4CmQw"
      },
      "source": [
        "**Задание 8**"
      ]
    },
    {
      "cell_type": "code",
      "metadata": {
        "id": "_IAP4WFeCqLT"
      },
      "source": [
        "np.random.seed(11)\n",
        "A = sp.norm.rvs(scale=15,loc=169,size=300)\n",
        "B = sp.norm.rvs(scale=14,loc=171.4,size=300)\n",
        "p_value = 0.05"
      ],
      "execution_count": null,
      "outputs": []
    },
    {
      "cell_type": "code",
      "metadata": {
        "colab": {
          "base_uri": "https://localhost:8080/"
        },
        "id": "bpBASa2rE-7U",
        "outputId": "1a7d3fa3-5cd8-4759-e4ab-dce1436a9c2a"
      },
      "source": [
        "t, p = sp.ttest_ind(a=A, b=B, equal_var=False)\n",
        "print (f'{t}, {p}')"
      ],
      "execution_count": null,
      "outputs": [
        {
          "output_type": "stream",
          "text": [
            "-1.95300880485141, 0.051284961272800134\n"
          ],
          "name": "stdout"
        }
      ]
    },
    {
      "cell_type": "code",
      "metadata": {
        "colab": {
          "base_uri": "https://localhost:8080/",
          "height": 522
        },
        "id": "jTjsSgcoFNeq",
        "outputId": "3e4c17d4-2732-4d49-dacc-e113c983a81d"
      },
      "source": [
        "# полученное значение p чуть больше p_value, а, значит, формально выборки статистически одинаковы\n",
        "# при p_value = 0.052 уже можно было бы считать, что выборки различны\n",
        "plt.hist(A, 40)\n",
        "plt.hist(B, 40)"
      ],
      "execution_count": null,
      "outputs": [
        {
          "output_type": "execute_result",
          "data": {
            "text/plain": [
              "(array([ 1.,  0.,  0.,  0.,  0.,  0.,  2.,  1.,  2.,  3.,  4.,  2.,  4.,\n",
              "         5., 10., 10.,  9., 12.,  5., 14., 17., 27., 14., 18., 12., 21.,\n",
              "        14., 22.,  9.,  8., 10., 11., 10.,  5.,  6.,  2.,  2.,  3.,  2.,\n",
              "         3.]), array([122.95604119, 125.01444161, 127.07284203, 129.13124245,\n",
              "        131.18964287, 133.24804329, 135.30644371, 137.36484413,\n",
              "        139.42324455, 141.48164497, 143.54004539, 145.59844581,\n",
              "        147.65684623, 149.71524665, 151.77364707, 153.8320475 ,\n",
              "        155.89044792, 157.94884834, 160.00724876, 162.06564918,\n",
              "        164.1240496 , 166.18245002, 168.24085044, 170.29925086,\n",
              "        172.35765128, 174.4160517 , 176.47445212, 178.53285254,\n",
              "        180.59125296, 182.64965338, 184.7080538 , 186.76645422,\n",
              "        188.82485464, 190.88325507, 192.94165549, 195.00005591,\n",
              "        197.05845633, 199.11685675, 201.17525717, 203.23365759,\n",
              "        205.29205801]), <a list of 40 Patch objects>)"
            ]
          },
          "metadata": {
            "tags": []
          },
          "execution_count": 33
        },
        {
          "output_type": "display_data",
          "data": {
            "image/png": "[encoded data removed]",
            "text/plain": [
              "<Figure size 432x288 with 1 Axes>"
            ]
          },
          "metadata": {
            "tags": [],
            "needs_background": "light"
          }
        }
      ]
    }
  ]
}