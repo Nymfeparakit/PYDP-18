{
  "nbformat": 4,
  "nbformat_minor": 0,
  "metadata": {
    "colab": {
      "name": "PyTT_01.ipynb",
      "provenance": [],
      "collapsed_sections": []
    },
    "kernelspec": {
      "name": "python3",
      "display_name": "Python 3"
    },
    "language_info": {
      "name": "python"
    }
  },
  "cells": [
    {
      "cell_type": "code",
      "metadata": {
        "colab": {
          "base_uri": "https://localhost:8080/"
        },
        "id": "2w8fR65sBiBm",
        "outputId": "2638e981-9ea9-45aa-8627-64b444d7b058"
      },
      "source": [
        "phrase_1 = 'Насколько проще было бы писать программы, если бы не заказчики'\n",
        "phrase_2 = '640Кб должно хватить для любых задач. Билл Гейтс (по легенде)'\n",
        "if len(phrase_1) > len(phrase_2):\n",
        "  print('Фраза 1 длиннее фразы 2')\n",
        "elif len(phrase_1) < len(phrase_2):\n",
        "  print('Фраза 2 длиннее фразы 1')\n",
        "elif len(phrase_1) == len(phrase_2):\n",
        "  print('Фразы равной длины')"
      ],
      "execution_count": 5,
      "outputs": [
        {
          "output_type": "stream",
          "text": [
            "Фраза 1 длиннее фразы 2\n"
          ],
          "name": "stdout"
        }
      ]
    },
    {
      "cell_type": "code",
      "metadata": {
        "colab": {
          "base_uri": "https://localhost:8080/"
        },
        "id": "HPyvgq8BCsXJ",
        "outputId": "c81460dc-c684-4569-9248-e47ca328bfc0"
      },
      "source": [
        "year = 2018\n",
        "if year % 4 == 0:\n",
        "  print('Високосный год')\n",
        "else:\n",
        "  print('Обычный год')"
      ],
      "execution_count": 8,
      "outputs": [
        {
          "output_type": "stream",
          "text": [
            "Високосный год\n"
          ],
          "name": "stdout"
        }
      ]
    },
    {
      "cell_type": "code",
      "metadata": {
        "colab": {
          "base_uri": "https://localhost:8080/"
        },
        "id": "55-HnFSqDDLI",
        "outputId": "9e0e8710-f2fe-43a8-fe92-cd04ed278b9d"
      },
      "source": [
        "print('Введите день:')\n",
        "day = int(input())\n",
        "print('Введите месяц:')\n",
        "month = input().lower()\n",
        "if (month == 'март' and day >= 21) or (month == 'апрель' and day <= 19):\n",
        "  print('Ваш знак зодиака: Овен')\n",
        "if (month == 'апрель' and day >= 20) or (month == 'май' and day <= 20):\n",
        "  print('Ваш знак зодиака: Телец')\n",
        "if (month == 'май' and day >= 21) or (month == 'июнь' and day <= 20):\n",
        "  print('Ваш знак зодиака: Близнецы')\n",
        "if (month == 'июнь' and day >= 21) or (month == 'июль' and day <= 22):\n",
        "  print('Ваш знак зодиака: Рак')\n",
        "if (month == 'июль' and day >= 23) or (month == 'август' and day <= 22):\n",
        "  print('Ваш знак зодиака: Лев')\n",
        "if (month == 'август' and day >= 23) or (month == 'сентябрь' and day <= 22):\n",
        "  print('Ваш знак зодиака: Дева')\n",
        "if (month == 'сентябрь' and day >= 23) or (month == 'октябрь' and day <= 22):\n",
        "  print('Ваш знак зодиака: Весы')\n",
        "if (month == 'октябрь' and day >= 23) or (month == 'ноябрь' and day <= 21):\n",
        "  print('Ваш знак зодиака: Скорпион')\n",
        "if (month == 'ноябрь' and day >= 22) or (month == 'декабрь' and day <= 21):\n",
        "  print('Ваш знак зодиака: Стрелец')\n",
        "if (month == 'декабрь' and day >= 22) or (month == 'январь' and day <= 19):\n",
        "  print('Ваш знак зодиака: Козерог')\n",
        "if (month == 'январь' and day >= 20) or (month == 'февраль' and day <= 18):\n",
        "  print('Ваш знак зодиака: Водолей')\n",
        "if (month == 'февраль' and day >= 19) or (month == 'март' and day <= 20):\n",
        "  print('Ваш знак зодиака: Рыбы')\n"
      ],
      "execution_count": 15,
      "outputs": [
        {
          "output_type": "stream",
          "text": [
            "Введите день:\n",
            "2\n",
            "Введите месяц:\n",
            "Январь\n",
            "Ваш знак зодиака: Козерог\n"
          ],
          "name": "stdout"
        }
      ]
    },
    {
      "cell_type": "code",
      "metadata": {
        "colab": {
          "base_uri": "https://localhost:8080/"
        },
        "id": "puKFxS3nIQ1Y",
        "outputId": "d7931cd2-0240-45a7-a62e-f4eb2feaab30"
      },
      "source": [
        "width = 45\n",
        "length = 205\n",
        "height = 45\n",
        "if length > 200:\n",
        "  print('Упаковка для лыж')\n",
        "elif width < 15 and length < 15 and height < 15:\n",
        "  print('Коробка №1')\n",
        "elif (15 <= width <= 50) or (15 <= length <= 50) or (15 <= height <= 50):\n",
        "  print('Коробка №2')\n",
        "else:\n",
        "  print('Стандартная коробка №3')"
      ],
      "execution_count": 19,
      "outputs": [
        {
          "output_type": "stream",
          "text": [
            "Упаковка для лыж\n"
          ],
          "name": "stdout"
        }
      ]
    },
    {
      "cell_type": "code",
      "metadata": {
        "colab": {
          "base_uri": "https://localhost:8080/"
        },
        "id": "XfOOgif-MI7m",
        "outputId": "5b49a9d1-65d7-49e3-9b75-2d095ff05206"
      },
      "source": [
        "ticket = 123321\n",
        "sum1 = (ticket // 100000) + ((ticket // 10000) % 10) + ((ticket // 1000) % 10)\n",
        "sum2 = ((ticket // 100) % 10) + ((ticket // 10) % 10) + (ticket % 10)\n",
        "if sum1 == sum2:\n",
        "  print('Счастливый билет')\n",
        "else:\n",
        "  print('Несчастливый билет')"
      ],
      "execution_count": 24,
      "outputs": [
        {
          "output_type": "stream",
          "text": [
            "Счастливый билет\n"
          ],
          "name": "stdout"
        }
      ]
    },
    {
      "cell_type": "code",
      "metadata": {
        "colab": {
          "base_uri": "https://localhost:8080/"
        },
        "id": "x9ly8hdsQznH",
        "outputId": "a1db09d4-594f-4383-d2c1-6b1e038df14d"
      },
      "source": [
        "from math import sqrt\n",
        "\n",
        "print('Введите тип фигуры:')\n",
        "figure = input().lower()\n",
        "if figure == 'круг':\n",
        "  print('Введите радиус круга:')\n",
        "  radii = int(input())\n",
        "  print('Площадь круга: ', str(round(3.141592*radii*radii,2)))\n",
        "if figure == 'треугольник':\n",
        "  print('Введите длину стороны A:')\n",
        "  a = int(input())\n",
        "  print('Введите длину стороны B:')\n",
        "  b = int(input())\n",
        "  print('Введите длину стороны C:')\n",
        "  c = int(input())\n",
        "  p = (a+b+c)/2.0\n",
        "  square = sqrt(p*(p-a)*(p-b)*(p-c))\n",
        "  print('Площадь треугольника: ', str(round(square,2)))\n",
        "if figure == 'прямоугольник':\n",
        "  print('Введите длину стороны A:')\n",
        "  a = int(input())\n",
        "  print('Введите длину стороны B:')\n",
        "  b = int(input())\n",
        "  print('Площадь треугольника: ', str(a*b))\n"
      ],
      "execution_count": 38,
      "outputs": [
        {
          "output_type": "stream",
          "text": [
            "Введите тип фигуры:\n",
            "прямоугольник\n",
            "Введите длину стороны A:\n",
            "3\n",
            "Введите длину стороны B:\n",
            "4\n",
            "Площадь треугольника:  12\n"
          ],
          "name": "stdout"
        }
      ]
    }
  ]
}